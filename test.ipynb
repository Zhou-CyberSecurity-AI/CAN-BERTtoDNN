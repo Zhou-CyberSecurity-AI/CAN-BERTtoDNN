{
 "cells": [
  {
   "cell_type": "code",
   "execution_count": null,
   "metadata": {},
   "outputs": [
    {
     "ename": "",
     "evalue": "",
     "output_type": "error",
     "traceback": [
      "\u001b[1;31m运行具有“/root/anaconda3/envs/pytorch/bin/python”的单元格需要ipykernel包。\n",
      "\u001b[1;31mRun the following command to install 'ipykernel' into the Python environment. \n",
      "\u001b[1;31mCommand: '/root/anaconda3/envs/pytorch/bin/python -m pip install ipykernel -U --user --force-reinstall'"
     ]
    }
   ],
   "source": [
    "import torch\n",
    "print(torch.cuda.is_available())"
   ]
  },
  {
   "cell_type": "code",
   "execution_count": null,
   "metadata": {},
   "outputs": [
    {
     "ename": "",
     "evalue": "",
     "output_type": "error",
     "traceback": [
      "\u001b[1;31m运行具有“/root/anaconda3/envs/pytorch/bin/python”的单元格需要ipykernel包。\n",
      "\u001b[1;31mRun the following command to install 'ipykernel' into the Python environment. \n",
      "\u001b[1;31mCommand: '/root/anaconda3/envs/pytorch/bin/python -m pip install ipykernel -U --user --force-reinstall'"
     ]
    }
   ],
   "source": [
    "import numpy as np\n",
    "\n"
   ]
  },
  {
   "cell_type": "code",
   "execution_count": null,
   "metadata": {},
   "outputs": [
    {
     "ename": "",
     "evalue": "",
     "output_type": "error",
     "traceback": [
      "\u001b[1;31m运行具有“/root/anaconda3/envs/pytorch/bin/python”的单元格需要ipykernel包。\n",
      "\u001b[1;31mRun the following command to install 'ipykernel' into the Python environment. \n",
      "\u001b[1;31mCommand: '/root/anaconda3/envs/pytorch/bin/python -m pip install ipykernel -U --user --force-reinstall'"
     ]
    }
   ],
   "source": [
    "import numpy as np\n",
    "import utils\n"
   ]
  },
  {
   "cell_type": "code",
   "execution_count": null,
   "metadata": {},
   "outputs": [
    {
     "ename": "",
     "evalue": "",
     "output_type": "error",
     "traceback": [
      "\u001b[1;31m运行具有“/root/anaconda3/envs/pytorch/bin/python”的单元格需要ipykernel包。\n",
      "\u001b[1;31mRun the following command to install 'ipykernel' into the Python environment. \n",
      "\u001b[1;31mCommand: '/root/anaconda3/envs/pytorch/bin/python -m pip install ipykernel -U --user --force-reinstall'"
     ]
    }
   ],
   "source": [
    "from sklearn.metrics import confusion_matrix, f1_score, accuracy_score, recall_score, precision_score\n",
    "\n",
    "y_true1 = [1, 0, 1, 1, 0, 1]\n",
    "y_pred1 = [0 ,0, 1, 1, 0, 1]\n",
    "cm1 = confusion_matrix(y_true1, y_pred1)\n",
    "print(cm1.shape) # (2, 2)\n",
    "print('cm1 is:\\n', cm1)\n",
    "acc = accuracy_score(y_pred=y_pred1, y_true=y_true1)\n",
    "recall = 1-recall_score(y_pred=y_pred1, y_true=y_true1, pos_label=0)\n",
    "precision = precision_score(y_pred=y_pred1, y_true=y_true1)\n",
    "print(acc, recall, precision)\n",
    "res = f1_score(y_true1, y_pred1, labels=None, pos_label=1, average='binary', sample_weight=None,zero_division=\"warn\")\n",
    "print(res)\n"
   ]
  },
  {
   "cell_type": "code",
   "execution_count": null,
   "metadata": {},
   "outputs": [
    {
     "ename": "",
     "evalue": "",
     "output_type": "error",
     "traceback": [
      "\u001b[1;31m运行具有“/root/anaconda3/envs/pytorch/bin/python”的单元格需要ipykernel包。\n",
      "\u001b[1;31mRun the following command to install 'ipykernel' into the Python environment. \n",
      "\u001b[1;31mCommand: '/root/anaconda3/envs/pytorch/bin/python -m pip install ipykernel -U --user --force-reinstall'"
     ]
    }
   ],
   "source": [
    "import numpy as np\n",
    "from transformers import BertTokenizer\n",
    "data = np.load(\"./Dataset/DoS/Data.npy\")\n",
    "Data = []\n",
    "for item in data:\n",
    "    item = np.concatenate(item, axis=0)\n",
    "    item = [str(i) for i in item]\n",
    "    Data.append(\" \".join(item))\n",
    "np.save\n",
    "\n",
    "\n",
    "\n",
    "#add_special_tokens 表示在句子的首尾添加[CLS]和[END]符号\n",
    "Tokenizer = BertTokenizer.from_pretrained(\"bert-base-uncased\")\n",
    "tokenizer = Tokenizer(\n",
    "            Data,\n",
    "            padding = True,\n",
    "            truncation = True,\n",
    "            max_length = 11,\n",
    "            return_tensors='pt'  # 返回的类型为pytorch tensor\n",
    "        )\n",
    "input_ids = tokenizer['input_ids']\n",
    "token_type_ids = tokenizer['token_type_ids']\n",
    "attention_mask = tokenizer['attention_mask']\n",
    "print(input_ids)\n",
    "\n",
    "\n"
   ]
  },
  {
   "cell_type": "code",
   "execution_count": null,
   "metadata": {},
   "outputs": [
    {
     "ename": "",
     "evalue": "",
     "output_type": "error",
     "traceback": [
      "\u001b[1;31m运行具有“/root/anaconda3/envs/pytorch/bin/python”的单元格需要ipykernel包。\n",
      "\u001b[1;31mRun the following command to install 'ipykernel' into the Python environment. \n",
      "\u001b[1;31mCommand: '/root/anaconda3/envs/pytorch/bin/python -m pip install ipykernel -U --user --force-reinstall'"
     ]
    }
   ],
   "source": [
    "import numpy as np\n",
    "from transformers import BertTokenizer\n",
    "data = np.load(\"./Dataset/DoS/Data.npy\")\n",
    "Data = []\n",
    "for item in data:\n",
    "    item = np.concatenate(item, axis=0)\n",
    "    item = [str(i) for i in item]\n",
    "    Data.append(\" \".join(item))\n",
    "np.save(\"./Dataset/DoS/DataforBert.npy\", Data)\n",
    "print(\"............................1.........................\")\n",
    "data = np.load(\"./Dataset/Fuzzy/Data.npy\")\n",
    "Data = []\n",
    "for item in data:\n",
    "    item = np.concatenate(item, axis=0)\n",
    "    item = [str(i) for i in item]\n",
    "    Data.append(\" \".join(item))\n",
    "np.save(\"./Dataset/Fuzzy/DataforBert.npy\", Data)\n",
    "print(\".............2..................\")\n",
    "data = np.load(\"./Dataset/Gear/Data.npy\")\n",
    "Data = []\n",
    "for item in data:\n",
    "    item = np.concatenate(item, axis=0)\n",
    "    item = [str(i) for i in item]\n",
    "    Data.append(\" \".join(item))\n",
    "np.save(\"./Dataset/Gear/DataforBert.npy\", Data)\n",
    "print(\".............3..................\")\n",
    "data = np.load(\"./Dataset/Normal/Data.npy\")\n",
    "Data = []\n",
    "for item in data:\n",
    "    item = np.concatenate(item, axis=0)\n",
    "    item = [str(i) for i in item]\n",
    "    Data.append(\" \".join(item))\n",
    "np.save(\"./Dataset/Normal/DataforBert.npy\", Data)\n",
    "print(\".............4..................\")\n",
    "data = np.load(\"./Dataset/RPM/Data.npy\")\n",
    "Data = []\n",
    "for item in data:\n",
    "    item = np.concatenate(item, axis=0)\n",
    "    item = [str(i) for i in item]\n",
    "    Data.append(\" \".join(item))\n",
    "np.save(\"./Dataset/RPM/DataforBert.npy\", Data)"
   ]
  },
  {
   "cell_type": "code",
   "execution_count": null,
   "metadata": {},
   "outputs": [
    {
     "ename": "",
     "evalue": "",
     "output_type": "error",
     "traceback": [
      "\u001b[1;31m运行具有“/root/anaconda3/envs/pytorch/bin/python”的单元格需要ipykernel包。\n",
      "\u001b[1;31mRun the following command to install 'ipykernel' into the Python environment. \n",
      "\u001b[1;31mCommand: '/root/anaconda3/envs/pytorch/bin/python -m pip install ipykernel -U --user --force-reinstall'"
     ]
    }
   ],
   "source": [
    "import numpy as np\n",
    "from transformers import BertTokenizer\n",
    "import pickle\n",
    "\n",
    "Tokenizer = BertTokenizer.from_pretrained(\"prajjwal1/bert-tiny\")\n",
    "data = np.load(\"./Dataset/DoS/DataForBert.npy\")\n",
    "data = data.tolist()\n",
    "tokenizer = Tokenizer(\n",
    "            data,\n",
    "            padding = True,\n",
    "            truncation = True,\n",
    "            max_length = 16,\n",
    "            return_tensors='pt'  # 返回的类型为pytorch tensor\n",
    "        )\n",
    "f_save = open('./Dataset/DoS/DataforBertTrain.npy', 'wb')\n",
    "pickle.dump(tokenizer, f_save)\n",
    "f_save.close()\n"
   ]
  },
  {
   "cell_type": "code",
   "execution_count": null,
   "metadata": {},
   "outputs": [
    {
     "ename": "",
     "evalue": "",
     "output_type": "error",
     "traceback": [
      "\u001b[1;31m运行具有“/root/anaconda3/envs/pytorch/bin/python”的单元格需要ipykernel包。\n",
      "\u001b[1;31mRun the following command to install 'ipykernel' into the Python environment. \n",
      "\u001b[1;31mCommand: '/root/anaconda3/envs/pytorch/bin/python -m pip install ipykernel -U --user --force-reinstall'"
     ]
    }
   ],
   "source": [
    "import pickle\n",
    "import numpy as np\n",
    "# # 读取\n",
    "f_read = open('./Dataset/DoS/DataforBertTrain.npy', 'rb')\n",
    "dict2 = pickle.load(f_read)\n",
    "print(dict2['input_ids'][:10])\n",
    "f_read.close()\n",
    "\n",
    "data = np.load(\"./Dataset/DoS/DataForBert.npy\")\n",
    "print(data[:10])\n"
   ]
  },
  {
   "cell_type": "code",
   "execution_count": null,
   "metadata": {},
   "outputs": [
    {
     "ename": "",
     "evalue": "",
     "output_type": "error",
     "traceback": [
      "\u001b[1;31m运行具有“/root/anaconda3/envs/pytorch/bin/python”的单元格需要ipykernel包。\n",
      "\u001b[1;31mRun the following command to install 'ipykernel' into the Python environment. \n",
      "\u001b[1;31mCommand: '/root/anaconda3/envs/pytorch/bin/python -m pip install ipykernel -U --user --force-reinstall'"
     ]
    }
   ],
   "source": [
    "import numpy as np\n",
    "\n",
    "data = np.load(\"./Dataset/DoS/DataForBert.npy\")\n",
    "label = np.load(\"./Dataset/Fuzzy/Label.npy\")\n",
    "print(type(data[0]))\n",
    "\n",
    "a = np.array(['sdahfj jsadfhjik asdfhj asdjfhjk asdjfkh'])\n",
    "print(str(a))\n"
   ]
  },
  {
   "cell_type": "code",
   "execution_count": null,
   "metadata": {},
   "outputs": [],
   "source": [
    "import numpy as np"
   ]
  }
 ],
 "metadata": {
  "kernelspec": {
   "display_name": "Python 3.8.0 ('backdoor')",
   "language": "python",
   "name": "python3"
  },
  "language_info": {
   "codemirror_mode": {
    "name": "ipython",
    "version": 3
   },
   "file_extension": ".py",
   "mimetype": "text/x-python",
   "name": "python",
   "nbconvert_exporter": "python",
   "pygments_lexer": "ipython3",
   "version": "3.8.16"
  },
  "orig_nbformat": 4,
  "vscode": {
   "interpreter": {
    "hash": "890f23051bf2a8416d688973e306587ee25bc90975db9a2cd4f57a51f56eb080"
   }
  }
 },
 "nbformat": 4,
 "nbformat_minor": 2
}
